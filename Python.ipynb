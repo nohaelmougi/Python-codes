{
  "nbformat": 4,
  "nbformat_minor": 0,
  "metadata": {
    "colab": {
      "provenance": []
    },
    "kernelspec": {
      "name": "python3",
      "display_name": "Python 3"
    },
    "language_info": {
      "name": "python"
    }
  },
  "cells": [
    {
      "cell_type": "code",
      "source": [
        "#a Multiplication program\n",
        "i = 1\n",
        "j = 1\n",
        "\n",
        "while i <= 3:\n",
        "    while j <= 3:\n",
        "        result = i * j\n",
        "        print(f\"{i} * {j} = {result}\")\n",
        "        j += 1\n",
        "    i += 1\n",
        "    j = 1\n",
        "\n",
        "\n"
      ],
      "metadata": {
        "colab": {
          "base_uri": "https://localhost:8080/"
        },
        "id": "fZGXydJq9FwD",
        "outputId": "2fdd8303-7502-4d87-bea2-abe455cbc64d"
      },
      "execution_count": null,
      "outputs": [
        {
          "output_type": "stream",
          "name": "stdout",
          "text": [
            "1 * 1 = 1\n",
            "1 * 2 = 2\n",
            "1 * 3 = 3\n",
            "2 * 1 = 2\n",
            "2 * 2 = 4\n",
            "2 * 3 = 6\n",
            "3 * 1 = 3\n",
            "3 * 2 = 6\n",
            "3 * 3 = 9\n"
          ]
        }
      ]
    },
    {
      "cell_type": "code",
      "source": [
        "#A program that prints the maximum value of a list without using a built-in function\n",
        "values = [9302, 3039, 10003, 1123, 2002, 200]\n",
        "\n",
        "max_value = values[0]\n",
        "\n",
        "for value in values:\n",
        "    if value > max_value:\n",
        "        max_value = value\n",
        "print(\"The maximum value is:\", max_value)\n"
      ],
      "metadata": {
        "colab": {
          "base_uri": "https://localhost:8080/"
        },
        "id": "BOrHio4H-OgI",
        "outputId": "3890b73a-e29b-41ff-edfd-32ed07039e3b"
      },
      "execution_count": null,
      "outputs": [
        {
          "output_type": "stream",
          "name": "stdout",
          "text": [
            "The maximum value is: 10003\n"
          ]
        }
      ]
    },
    {
      "cell_type": "code",
      "source": [
        "#Prints the vowel letters and the count of them\n",
        "vowels = ['a', 'e', 'i', 'o', 'u']\n",
        "count = 0\n",
        "\n",
        "string = \"elephant\"\n",
        "\n",
        "for letter in string:\n",
        "    if letter in vowels:\n",
        "        count += 1\n",
        "        print(letter, count, \"vowels\")\n"
      ],
      "metadata": {
        "colab": {
          "base_uri": "https://localhost:8080/"
        },
        "id": "U2Q9FZQ8-X1u",
        "outputId": "c9b6a6da-d540-47e5-ac67-62545fb11947"
      },
      "execution_count": null,
      "outputs": [
        {
          "output_type": "stream",
          "name": "stdout",
          "text": [
            "e 1 vowels\n",
            "e 2 vowels\n",
            "a 3 vowels\n"
          ]
        }
      ]
    },
    {
      "cell_type": "code",
      "source": [
        "#A program that prints a diamond shape with stars\n",
        "n = 5\n",
        "# Upper half of the diamond\n",
        "for i in range(n):\n",
        "    # Print spaces\n",
        "    print(\" \" * (n - i - 1), end=\"\")\n",
        "    # Print stars\n",
        "    print(\"*\" * (2 * i + 1))\n",
        "\n",
        "# Lower half of the diamond\n",
        "for i in range(n - 2, -1, -1):\n",
        "    # Print spaces\n",
        "    print(\" \" * (n - i - 1), end=\"\")\n",
        "    # Print stars\n",
        "    print(\"*\" * (2 * i + 1))"
      ],
      "metadata": {
        "colab": {
          "base_uri": "https://localhost:8080/"
        },
        "id": "PH4kTHixCkeF",
        "outputId": "85063d30-805b-47b1-ea1e-ca923fbe130a"
      },
      "execution_count": null,
      "outputs": [
        {
          "output_type": "stream",
          "name": "stdout",
          "text": [
            "    *\n",
            "   ***\n",
            "  *****\n",
            " *******\n",
            "*********\n",
            " *******\n",
            "  *****\n",
            "   ***\n",
            "    *\n"
          ]
        }
      ]
    }
  ]
}